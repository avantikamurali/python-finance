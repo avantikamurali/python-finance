{
 "cells": [
  {
   "cell_type": "markdown",
   "metadata": {},
   "source": [
    "# Portfolio Optimization using Modern Portfolio Theory"
   ]
  },
  {
   "cell_type": "markdown",
   "metadata": {},
   "source": [
    "### Harry Markowitz theorized that we can construct an 'efficient frontier' of optimal portfolios. An asset's risk and return shouldn't be viewed in isolation; it should be viewed in the context of a portfolio's overall performance. The frontier is a curve wherein given a certain risk, we can maximize the expected return. "
   ]
  },
  {
   "cell_type": "code",
   "execution_count": 109,
   "metadata": {},
   "outputs": [],
   "source": [
    "import numpy as np\n",
    "import pandas as pd\n",
    "from pandas_datareader import data as wb\n",
    "import plotly\n",
    "import plotly.plotly as py\n",
    "import plotly.graph_objs as go\n",
    "import random\n",
    "\n",
    "random.seed(3456)\n",
    "plotly.tools.set_credentials_file(username='amurali8', api_key='gkGQLcSnSFYgyUoK8QjB')"
   ]
  },
  {
   "cell_type": "code",
   "execution_count": 91,
   "metadata": {},
   "outputs": [],
   "source": [
    "#Creating list of tickers\n",
    "tickers = ['BEP','AAPL','WMT','PEP','ACN','GOOGL'];\n",
    "\n",
    "#BEP - Brookfield Renewable Partners\n",
    "#AAPL - Apple\n",
    "#WMT - Walmart\n",
    "#PEP - PepsiCo\n",
    "#ACN - Accenture\n",
    "#GOOGL - Alphabet"
   ]
  },
  {
   "cell_type": "code",
   "execution_count": 92,
   "metadata": {},
   "outputs": [],
   "source": [
    "#Extracting adjusted close data for each of the stock tickers\n",
    "df = pd.DataFrame();\n",
    "for t in tickers:\n",
    "    df[t] = wb.DataReader(t, data_source='yahoo', start = '01-01-2010')['Adj Close'];"
   ]
  },
  {
   "cell_type": "code",
   "execution_count": 93,
   "metadata": {},
   "outputs": [],
   "source": [
    "#Simple daily return rate\n",
    "ret = df.pct_change()"
   ]
  },
  {
   "cell_type": "code",
   "execution_count": 94,
   "metadata": {},
   "outputs": [],
   "source": [
    "#Mean daily return rate and covariance matrix\n",
    "mean_daily_ret = ret.mean()\n",
    "mean_daily_ret = np.array(mean_daily_ret)\n",
    "covariance_matrix = ret.cov()"
   ]
  },
  {
   "cell_type": "code",
   "execution_count": 95,
   "metadata": {},
   "outputs": [],
   "source": [
    "#Number of portfolios considered\n",
    "n = 200000;"
   ]
  },
  {
   "cell_type": "code",
   "execution_count": 96,
   "metadata": {},
   "outputs": [],
   "source": [
    "#Initializing weights\n",
    "weights = np.zeros((np.size(tickers),1))"
   ]
  },
  {
   "cell_type": "code",
   "execution_count": 97,
   "metadata": {},
   "outputs": [],
   "source": [
    "#Computing annualized portfolio return and volatility\n",
    "data_list = [];\n",
    "weight_data = np.zeros((n,np.size(tickers)))\n",
    "risk_free_return_rate = 2.07/100;\n",
    "\n",
    "for i in range(n):\n",
    "    weights = np.random.random((np.size(tickers),1));\n",
    "    weights = weights/weights.sum();\n",
    "    weight_data[i,:] = np.transpose(weights);\n",
    "    \n",
    "    #Annual portfolio return\n",
    "    portfolio_return = np.dot(np.transpose(weights),mean_daily_ret)*252;\n",
    "    \n",
    "    #Annual portfolio volatility\n",
    "    portfolio_std = np.sqrt(np.dot(np.transpose(weights),np.dot(covariance_matrix,weights))*252);\n",
    "    \n",
    "    #Sharpe ratio = return/volatility\n",
    "    sharpe = (portfolio_return-risk_free_return_rate)/portfolio_std\n",
    "    \n",
    "    temp = [float(portfolio_return), float(portfolio_std), float(sharpe)];\n",
    "    \n",
    "    data_list.append(temp)\n",
    "\n",
    "data_rvs = pd.DataFrame(data_list,columns = ['Portfolio_Return','Portfolio_Volatility','Sharpe_Ratio'])\n",
    "weight_data = pd.DataFrame(weight_data,columns = tickers)"
   ]
  },
  {
   "cell_type": "code",
   "execution_count": 98,
   "metadata": {},
   "outputs": [],
   "source": [
    "#Identifying portfolios with maximum sharpe ratio and minimum volatility\n",
    "max_sharpe = weight_data.iloc[data_rvs['Sharpe_Ratio'].idxmax()]\n",
    "min_vol = weight_data.iloc[data_rvs['Portfolio_Volatility'].idxmin()]"
   ]
  },
  {
   "cell_type": "code",
   "execution_count": 99,
   "metadata": {},
   "outputs": [],
   "source": [
    "#Finding return, volatility, and sharpe ratio of these optimized portfolios\n",
    "temp1 = [];\n",
    "temp2 = [];\n",
    "for i in range(n):\n",
    "    if weight_data.iloc[i].tolist() == max_sharpe.tolist():\n",
    "        temp1 = data_rvs.iloc[i];\n",
    "    elif weight_data.iloc[i].tolist() == min_vol.tolist():\n",
    "        temp2 = data_rvs.iloc[i];\n",
    "\n",
    "max_sharpe_rvs = temp1;\n",
    "min_vol_rvs = temp2;"
   ]
  },
  {
   "cell_type": "code",
   "execution_count": 110,
   "metadata": {},
   "outputs": [
    {
     "data": {
      "text/html": [
       "<iframe id=\"igraph\" scrolling=\"no\" style=\"border:none;\" seamless=\"seamless\" src=\"https://plot.ly/~amurali8/2.embed\" height=\"525px\" width=\"100%\"></iframe>"
      ],
      "text/plain": [
       "<chart_studio.tools.PlotlyDisplay object>"
      ]
     },
     "execution_count": 110,
     "metadata": {},
     "output_type": "execute_result"
    }
   ],
   "source": [
    "#Plotting the efficient frontier\n",
    "\n",
    "trace = go.Scattergl(x = data_rvs['Portfolio_Volatility'], y = data_rvs['Portfolio_Return'], mode = 'markers', \n",
    "                   marker = dict (size = 14, color = data_rvs['Sharpe_Ratio'], colorscale = 'rainbow', showscale = True)\n",
    "                  )\n",
    "data = [trace]\n",
    "\n",
    "layout = go.Layout(\n",
    "    \n",
    "    title=go.layout.Title(\n",
    "        text=r'$\\text{Efficient Frontier}$'\n",
    "    ),\n",
    "    xaxis=go.layout.XAxis(\n",
    "        title=r'$\\text{Volatility}$'\n",
    "    ),\n",
    "    yaxis=go.layout.YAxis(\n",
    "        title = r'$\\text{Expected Return}$'\n",
    "    )\n",
    "        \n",
    ")\n",
    "\n",
    "fig = go.Figure(data=data, layout=layout)\n",
    "py.iplot(fig, filename='efficient_frontier')\n"
   ]
  },
  {
   "cell_type": "code",
   "execution_count": 103,
   "metadata": {
    "scrolled": true
   },
   "outputs": [
    {
     "name": "stdout",
     "output_type": "stream",
     "text": [
      "Max Sharpe Ratio Portfolio (%):\n",
      "\u000b",
      "\n",
      "Portfolio Return: 17.642134\n",
      "Portfolio Volatility: 13.727081\n",
      "Sharpe Ratio: 1.13441 (dimensionless)\n",
      "\n",
      "BEP      15.239122\n",
      "AAPL     25.271658\n",
      "WMT      11.088408\n",
      "PEP      26.184847\n",
      "ACN      22.160381\n",
      "GOOGL     0.055584\n",
      "Name: 60580, dtype: float64\n"
     ]
    }
   ],
   "source": [
    "print('Max Sharpe Ratio Portfolio (%):'); print('\\v' + '\\n' + 'Portfolio Return: ' + str(round(max_sharpe_rvs[0]*100,6)) + '\\n' + 'Portfolio Volatility: ' + str(round(max_sharpe_rvs[1]*100,6)) + '\\n' + 'Sharpe Ratio: ' + str(round(max_sharpe_rvs[2],6)) + ' (dimensionless)'); print( '\\n'+ str(max_sharpe*100))"
   ]
  },
  {
   "cell_type": "code",
   "execution_count": 104,
   "metadata": {
    "scrolled": true
   },
   "outputs": [
    {
     "name": "stdout",
     "output_type": "stream",
     "text": [
      "Min Volatility Portfolio (%):\n",
      "\n",
      "Portfolio Return: 14.079245\n",
      "Portfolio Volatility: 12.009207\n",
      "Sharpe Ratio: 1.000003 (dimensionless)\n",
      "\n",
      "BEP      15.142377\n",
      "AAPL      7.707261\n",
      "WMT      26.969167\n",
      "PEP      42.146449\n",
      "ACN       3.165033\n",
      "GOOGL     4.869712\n",
      "Name: 141211, dtype: float64\n"
     ]
    }
   ],
   "source": [
    "print('Min Volatility Portfolio (%):'); print( '\\n' + 'Portfolio Return: ' + str(round(min_vol_rvs[0]*100,6)) + '\\n' + 'Portfolio Volatility: ' + str(round(min_vol_rvs[1]*100,6)) + '\\n' + 'Sharpe Ratio: ' + str(round(min_vol_rvs[2],6)) + ' (dimensionless)'); print('\\n'+ str(min_vol*100))"
   ]
  }
 ],
 "metadata": {
  "kernelspec": {
   "display_name": "Python 3",
   "language": "python",
   "name": "python3"
  },
  "language_info": {
   "codemirror_mode": {
    "name": "ipython",
    "version": 3
   },
   "file_extension": ".py",
   "mimetype": "text/x-python",
   "name": "python",
   "nbconvert_exporter": "python",
   "pygments_lexer": "ipython3",
   "version": "3.7.3"
  }
 },
 "nbformat": 4,
 "nbformat_minor": 2
}
