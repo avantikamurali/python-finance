{
 "cells": [
  {
   "cell_type": "markdown",
   "metadata": {},
   "source": [
    "# Stock Clustering using K-Means and Gaussian Mixture Model algorithms"
   ]
  },
  {
   "cell_type": "markdown",
   "metadata": {},
   "source": [
    "### Clustering stocks by similar performance aids investors in creating sufficiently diversified portfolios."
   ]
  },
  {
   "cell_type": "code",
   "execution_count": 2,
   "metadata": {},
   "outputs": [],
   "source": [
    "import numpy as np\n",
    "from pandas_datareader import data as wb\n",
    "from sklearn.cluster import KMeans\n",
    "from sklearn.mixture import GaussianMixture\n",
    "import pandas as pd\n",
    "import plotly\n",
    "import plotly.plotly as py\n",
    "import plotly.graph_objs as go\n",
    "import random\n",
    "import matplotlib.pyplot as plt\n",
    "\n",
    "random.seed(3456)\n",
    "plotly.tools.set_credentials_file(username='amurali8', api_key='gkGQLcSnSFYgyUoK8QjB')"
   ]
  },
  {
   "cell_type": "code",
   "execution_count": 3,
   "metadata": {},
   "outputs": [],
   "source": [
    "#Scraping list of tickers in S&P 500 from Wikipedia\n",
    "url = 'https://en.wikipedia.org/wiki/List_of_S%26P_500_companies';\n",
    "raw_data = pd.read_html(url);"
   ]
  },
  {
   "cell_type": "code",
   "execution_count": 4,
   "metadata": {},
   "outputs": [],
   "source": [
    "#Extracting ticker information\n",
    "raw_data = raw_data[0]['Symbol']\n",
    "ticker = raw_data.tolist()"
   ]
  },
  {
   "cell_type": "code",
   "execution_count": 5,
   "metadata": {},
   "outputs": [],
   "source": [
    "#Extracting adjusted close stock data from 2015-present\n",
    "stockdata = pd.DataFrame();\n",
    "for t in ticker:\n",
    "    try:\n",
    "        stockdata[t] = wb.DataReader(t,data_source = 'yahoo',start = '2015-01-01')['Adj Close']\n",
    "    except:\n",
    "        pass"
   ]
  },
  {
   "cell_type": "code",
   "execution_count": 6,
   "metadata": {},
   "outputs": [],
   "source": [
    "#Computing simple daily return rate\n",
    "pct = stockdata.pct_change()"
   ]
  },
  {
   "cell_type": "code",
   "execution_count": 7,
   "metadata": {},
   "outputs": [],
   "source": [
    "#Computing annualized return and volatility for each stock\n",
    "ret = pct.mean()*252\n",
    "std = pct.std()*np.sqrt(252)"
   ]
  },
  {
   "cell_type": "code",
   "execution_count": 8,
   "metadata": {},
   "outputs": [],
   "source": [
    "#Creating feature dataframe\n",
    "features = pd.DataFrame(columns = ['Return','Volatility'])\n",
    "features['Return'] = ret;\n",
    "features['Volatility'] = std;"
   ]
  },
  {
   "cell_type": "code",
   "execution_count": 9,
   "metadata": {},
   "outputs": [],
   "source": [
    "X = np.array(features)"
   ]
  },
  {
   "cell_type": "code",
   "execution_count": 10,
   "metadata": {},
   "outputs": [
    {
     "data": {
      "image/png": "[encoded data removed]",
      "text/plain": [
       "<Figure size 432x288 with 1 Axes>"
      ]
     },
     "metadata": {
      "needs_background": "light"
     },
     "output_type": "display_data"
    }
   ],
   "source": [
    "#Finding number of clusters required using an elbow plot\n",
    "sse = []\n",
    "for k in range(2,20):\n",
    "    kmeans = KMeans(n_clusters = k).fit(X)\n",
    "    sse.append(kmeans.inertia_)\n",
    "plt.plot(range(2,20),sse)\n",
    "plt.show()\n",
    "#Breakoff point is probably 6"
   ]
  },
  {
   "cell_type": "code",
   "execution_count": 11,
   "metadata": {},
   "outputs": [
    {
     "name": "stderr",
     "output_type": "stream",
     "text": [
      "/anaconda3/lib/python3.7/site-packages/IPython/core/display.py:689: UserWarning:\n",
      "\n",
      "Consider using IPython.display.IFrame instead\n",
      "\n"
     ]
    },
    {
     "data": {
      "text/html": [
       "<iframe id=\"igraph\" scrolling=\"no\" style=\"border:none;\" seamless=\"seamless\" src=\"https://plot.ly/~amurali8/4.embed\" height=\"525px\" width=\"100%\"></iframe>"
      ],
      "text/plain": [
       "<chart_studio.tools.PlotlyDisplay object>"
      ]
     },
     "execution_count": 11,
     "metadata": {},
     "output_type": "execute_result"
    }
   ],
   "source": [
    "#K-Means Clustering with n = 6\n",
    "kmeans = KMeans(n_clusters = 6).fit(X)\n",
    "centers = kmeans.cluster_centers_\n",
    "labels = kmeans.labels_\n",
    "\n",
    "trace = go.Scattergl(x = X[:,1], y = X[:,0], mode = 'markers', \n",
    "                   marker = dict (size = 14, color = labels, showscale = True)\n",
    "                  )\n",
    "data = [trace]\n",
    "\n",
    "layout = go.Layout(\n",
    "    \n",
    "    title=go.layout.Title(\n",
    "        text=r'$\\text{K-Means Clustering for n = 6}$'\n",
    "    ),\n",
    "    xaxis=go.layout.XAxis(\n",
    "        title=r'$\\text{Volatility}$'\n",
    "    ),\n",
    "    yaxis=go.layout.YAxis(\n",
    "        title = r'$\\text{Expected Return}$'\n",
    "    )\n",
    "        \n",
    ")\n",
    "\n",
    "fig = go.Figure(data=data, layout=layout)\n",
    "py.iplot(fig, filename='kmeans')"
   ]
  },
  {
   "cell_type": "code",
   "execution_count": 17,
   "metadata": {},
   "outputs": [],
   "source": [
    "#Getting rid of outliers\n",
    "for i in range(0,np.size(np.array(features['Volatility']))):\n",
    "    if features['Volatility'][i] >= 0.60:\n",
    "        temp = features.index[i]\n",
    "        features = features.drop(index = temp)"
   ]
  },
  {
   "cell_type": "code",
   "execution_count": 19,
   "metadata": {},
   "outputs": [
    {
     "name": "stderr",
     "output_type": "stream",
     "text": [
      "/anaconda3/lib/python3.7/site-packages/IPython/core/display.py:689: UserWarning:\n",
      "\n",
      "Consider using IPython.display.IFrame instead\n",
      "\n"
     ]
    },
    {
     "data": {
      "text/html": [
       "<iframe id=\"igraph\" scrolling=\"no\" style=\"border:none;\" seamless=\"seamless\" src=\"https://plot.ly/~amurali8/6.embed\" height=\"525px\" width=\"100%\"></iframe>"
      ],
      "text/plain": [
       "<chart_studio.tools.PlotlyDisplay object>"
      ]
     },
     "execution_count": 19,
     "metadata": {},
     "output_type": "execute_result"
    }
   ],
   "source": [
    "#Running the algorithm again without the outliers\n",
    "X = np.array(features)\n",
    "kmeans = KMeans(n_clusters = 8).fit(X)\n",
    "centers = kmeans.cluster_centers_\n",
    "labels = kmeans.labels_\n",
    "\n",
    "trace = go.Scattergl(x = X[:,1], y = X[:,0], mode = 'markers', \n",
    "                   marker = dict (size = 14, color = labels, colorscale = 'Viridis', showscale = True)\n",
    "                  )\n",
    "data = [trace]\n",
    "\n",
    "layout = go.Layout(\n",
    "    \n",
    "    title=go.layout.Title(\n",
    "        text=r'$\\text{K-Means Clustering for n = 6}$'\n",
    "    ),\n",
    "    xaxis=go.layout.XAxis(\n",
    "        title=r'$\\text{Volatility}$'\n",
    "    ),\n",
    "    yaxis=go.layout.YAxis(\n",
    "        title = r'$\\text{Expected Return}$'\n",
    "    )\n",
    "        \n",
    ")\n",
    "\n",
    "fig = go.Figure(data=data, layout=layout)\n",
    "py.iplot(fig, filename='kmeans_1')"
   ]
  },
  {
   "cell_type": "code",
   "execution_count": 20,
   "metadata": {},
   "outputs": [],
   "source": [
    "#Generating dataframe with results\n",
    "results_kmeans = pd.DataFrame(columns = ['Tickers','Cluster Label'])\n",
    "results_kmeans['Tickers'] = features.index\n",
    "results_kmeans = results_kmeans.set_index('Tickers')\n",
    "results_kmeans['Cluster Label'] = labels"
   ]
  },
  {
   "cell_type": "markdown",
   "metadata": {},
   "source": [
    "The clusters aren't spherical, so the KMeans clustering algorithm may not be particularly suited to this dataset. Let's try using a Gaussian Mixture Model. "
   ]
  },
  {
   "cell_type": "code",
   "execution_count": 21,
   "metadata": {},
   "outputs": [],
   "source": [
    "X = np.array(features)"
   ]
  },
  {
   "cell_type": "code",
   "execution_count": 22,
   "metadata": {},
   "outputs": [],
   "source": [
    "#Implementing GMM algorithm\n",
    "gmm = GaussianMixture(n_components = 8).fit(X)\n",
    "gmmlabels = gmm.predict(X)"
   ]
  },
  {
   "cell_type": "code",
   "execution_count": 23,
   "metadata": {},
   "outputs": [
    {
     "name": "stderr",
     "output_type": "stream",
     "text": [
      "/anaconda3/lib/python3.7/site-packages/IPython/core/display.py:689: UserWarning:\n",
      "\n",
      "Consider using IPython.display.IFrame instead\n",
      "\n"
     ]
    },
    {
     "data": {
      "text/html": [
       "<iframe id=\"igraph\" scrolling=\"no\" style=\"border:none;\" seamless=\"seamless\" src=\"https://plot.ly/~amurali8/8.embed\" height=\"525px\" width=\"100%\"></iframe>"
      ],
      "text/plain": [
       "<chart_studio.tools.PlotlyDisplay object>"
      ]
     },
     "execution_count": 23,
     "metadata": {},
     "output_type": "execute_result"
    }
   ],
   "source": [
    "#Plotting GMM results\n",
    "trace = go.Scattergl(x = X[:,1], y = X[:,0], mode = 'markers', \n",
    "                   marker = dict (size = 14, color = gmmlabels, colorscale = 'Portland', showscale = True)\n",
    "                  )\n",
    "data = [trace]\n",
    "\n",
    "layout = go.Layout(\n",
    "    \n",
    "    title=go.layout.Title(\n",
    "        text=r'$\\text{GMM for n = 6}$'\n",
    "    ),\n",
    "    xaxis=go.layout.XAxis(\n",
    "        title=r'$\\text{Volatility}$'\n",
    "    ),\n",
    "    yaxis=go.layout.YAxis(\n",
    "        title = r'$\\text{Expected Return}$'\n",
    "    )\n",
    "        \n",
    ")\n",
    "\n",
    "fig = go.Figure(data=data, layout=layout)\n",
    "py.iplot(fig, filename='gmm')"
   ]
  },
  {
   "cell_type": "code",
   "execution_count": 24,
   "metadata": {},
   "outputs": [],
   "source": [
    "#Generating dataframe with results\n",
    "results_gmm = pd.DataFrame(columns = ['Tickers','Predicted Cluster Label'])\n",
    "results_gmm['Tickers'] = features.index\n",
    "results_gmm = results_gmm.set_index('Tickers')\n",
    "results_gmm['Predicted Cluster Label'] = gmmlabels"
   ]
  }
 ],
 "metadata": {
  "kernelspec": {
   "display_name": "Python 3",
   "language": "python",
   "name": "python3"
  },
  "language_info": {
   "codemirror_mode": {
    "name": "ipython",
    "version": 3
   },
   "file_extension": ".py",
   "mimetype": "text/x-python",
   "name": "python",
   "nbconvert_exporter": "python",
   "pygments_lexer": "ipython3",
   "version": "3.7.3"
  }
 },
 "nbformat": 4,
 "nbformat_minor": 2
}
